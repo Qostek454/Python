{
 "cells": [
  {
   "attachments": {},
   "cell_type": "markdown",
   "metadata": {},
   "source": [
    "# Libraries\n"
   ]
  },
  {
   "cell_type": "code",
   "execution_count": 1,
   "metadata": {},
   "outputs": [],
   "source": [
    "import pandas as pd\n",
    "import matplotlib as plt"
   ]
  },
  {
   "attachments": {},
   "cell_type": "markdown",
   "metadata": {},
   "source": [
    "# Data Exploration"
   ]
  },
  {
   "cell_type": "code",
   "execution_count": 19,
   "metadata": {},
   "outputs": [
    {
     "name": "stdout",
     "output_type": "stream",
     "text": [
      "Index(['MONTH', 'TSLA_WEB_SEARCH', 'TSLA_USD_CLOSE'], dtype='object')\n",
      "count            124\n",
      "unique           124\n",
      "top       2010-06-01\n",
      "freq               1\n",
      "Name: MONTH, dtype: object\n",
      "       TSLA_WEB_SEARCH  TSLA_USD_CLOSE\n",
      "count       124.000000      124.000000\n",
      "mean          8.725806       50.962145\n",
      "std           5.870332       65.908389\n",
      "min           2.000000        3.896000\n",
      "25%           3.750000        7.352500\n",
      "50%           8.000000       44.653000\n",
      "75%          12.000000       58.991999\n",
      "max          31.000000      498.320007\n"
     ]
    }
   ],
   "source": [
    "# Tesla dataset\n",
    "df_tesla = pd.read_csv(r'C:\\Users\\55599\\Desktop\\Python - Jupyter Notebook\\#_5_Google Trends Data Viz (start)\\TESLA Search Trend vs Price.csv')\n",
    "#print(df_tesla.shape)\n",
    "#print(df_tesla.head(20))\n",
    "print(df_tesla.columns)\n",
    "print(df_tesla['MONTH'].describe(datetime_is_numeric=False))\n",
    "print(df_tesla.describe(datetime_is_numeric=True))"
   ]
  },
  {
   "cell_type": "code",
   "execution_count": 8,
   "metadata": {},
   "outputs": [
    {
     "name": "stdout",
     "output_type": "stream",
     "text": [
      "(181, 3) df_unemployemnt1 shape\n",
      "Index(['MONTH', 'UE_BENEFITS_WEB_SEARCH', 'UNRATE'], dtype='object') df_unemployemnt1 columns\n",
      "(200, 3) df_unemployemnt2 shape\n",
      "Index(['MONTH', 'UE_BENEFITS_WEB_SEARCH', 'UNRATE'], dtype='object') df_unemployemnt2 columns\n"
     ]
    }
   ],
   "source": [
    "# Unemployment dataset\n",
    "df_unemployment1 = pd.read_csv(r'C:\\Users\\55599\\Desktop\\Python - Jupyter Notebook\\#_5_Google Trends Data Viz (start)\\UE Benefits Search vs UE Rate 2004-19.csv')\n",
    "df_unemployment2 = pd.read_csv(r'C:\\Users\\55599\\Desktop\\Python - Jupyter Notebook\\#_5_Google Trends Data Viz (start)\\UE Benefits Search vs UE Rate 2004-20.csv')\n",
    "print(df_unemployment1.shape, \"df_unemployemnt1 shape\")\n",
    "print(df_unemployment1.columns, \"df_unemployemnt1 columns\")\n",
    "print(df_unemployment2.shape, \"df_unemployemnt2 shape\")\n",
    "print(df_unemployment2.columns, \"df_unemployemnt2 columns\")\n"
   ]
  },
  {
   "cell_type": "code",
   "execution_count": 23,
   "metadata": {},
   "outputs": [
    {
     "data": {
      "text/plain": [
       "<bound method NDFrame.head of             DATE         CLOSE        VOLUME\n",
       "0     2014-09-17    457.334015  2.105680e+07\n",
       "1     2014-09-18    424.440002  3.448320e+07\n",
       "2     2014-09-19    394.795990  3.791970e+07\n",
       "3     2014-09-20    408.903992  3.686360e+07\n",
       "4     2014-09-21    398.821014  2.658010e+07\n",
       "...          ...           ...           ...\n",
       "2199  2020-09-24  10745.548828  2.301754e+10\n",
       "2200  2020-09-25  10702.290039  2.123255e+10\n",
       "2201  2020-09-26  10754.437500  1.810501e+10\n",
       "2202  2020-09-27  10774.426758  1.801688e+10\n",
       "2203  2020-09-28  10912.536133  2.122653e+10\n",
       "\n",
       "[2204 rows x 3 columns]>"
      ]
     },
     "execution_count": 23,
     "metadata": {},
     "output_type": "execute_result"
    }
   ],
   "source": [
    "# Bitcoin dataset\n",
    "df_bitcoin = pd.read_csv(r'C:\\Users\\55599\\Desktop\\Python - Jupyter Notebook\\#_5_Google Trends Data Viz (start)\\Daily Bitcoin Price.csv')\n",
    "df_bitcoin.shape\n",
    "df_bitcoin.head\n",
    "\n"
   ]
  },
  {
   "attachments": {},
   "cell_type": "markdown",
   "metadata": {},
   "source": [
    "# Data Cleaning"
   ]
  },
  {
   "cell_type": "code",
   "execution_count": 38,
   "metadata": {},
   "outputs": [
    {
     "name": "stdout",
     "output_type": "stream",
     "text": [
      "bitcoin True\n",
      "tesla False\n",
      "unempl1 False\n",
      "unempl2 False\n"
     ]
    },
    {
     "data": {
      "text/html": [
       "<div>\n",
       "<style scoped>\n",
       "    .dataframe tbody tr th:only-of-type {\n",
       "        vertical-align: middle;\n",
       "    }\n",
       "\n",
       "    .dataframe tbody tr th {\n",
       "        vertical-align: top;\n",
       "    }\n",
       "\n",
       "    .dataframe thead th {\n",
       "        text-align: right;\n",
       "    }\n",
       "</style>\n",
       "<table border=\"1\" class=\"dataframe\">\n",
       "  <thead>\n",
       "    <tr style=\"text-align: right;\">\n",
       "      <th></th>\n",
       "      <th>DATE</th>\n",
       "      <th>CLOSE</th>\n",
       "      <th>VOLUME</th>\n",
       "    </tr>\n",
       "  </thead>\n",
       "  <tbody>\n",
       "    <tr>\n",
       "      <th>0</th>\n",
       "      <td>2014-09-17</td>\n",
       "      <td>457.334015</td>\n",
       "      <td>2.105680e+07</td>\n",
       "    </tr>\n",
       "    <tr>\n",
       "      <th>1</th>\n",
       "      <td>2014-09-18</td>\n",
       "      <td>424.440002</td>\n",
       "      <td>3.448320e+07</td>\n",
       "    </tr>\n",
       "    <tr>\n",
       "      <th>2</th>\n",
       "      <td>2014-09-19</td>\n",
       "      <td>394.795990</td>\n",
       "      <td>3.791970e+07</td>\n",
       "    </tr>\n",
       "    <tr>\n",
       "      <th>3</th>\n",
       "      <td>2014-09-20</td>\n",
       "      <td>408.903992</td>\n",
       "      <td>3.686360e+07</td>\n",
       "    </tr>\n",
       "    <tr>\n",
       "      <th>4</th>\n",
       "      <td>2014-09-21</td>\n",
       "      <td>398.821014</td>\n",
       "      <td>2.658010e+07</td>\n",
       "    </tr>\n",
       "    <tr>\n",
       "      <th>...</th>\n",
       "      <td>...</td>\n",
       "      <td>...</td>\n",
       "      <td>...</td>\n",
       "    </tr>\n",
       "    <tr>\n",
       "      <th>2199</th>\n",
       "      <td>2020-09-24</td>\n",
       "      <td>10745.548828</td>\n",
       "      <td>2.301754e+10</td>\n",
       "    </tr>\n",
       "    <tr>\n",
       "      <th>2200</th>\n",
       "      <td>2020-09-25</td>\n",
       "      <td>10702.290039</td>\n",
       "      <td>2.123255e+10</td>\n",
       "    </tr>\n",
       "    <tr>\n",
       "      <th>2201</th>\n",
       "      <td>2020-09-26</td>\n",
       "      <td>10754.437500</td>\n",
       "      <td>1.810501e+10</td>\n",
       "    </tr>\n",
       "    <tr>\n",
       "      <th>2202</th>\n",
       "      <td>2020-09-27</td>\n",
       "      <td>10774.426758</td>\n",
       "      <td>1.801688e+10</td>\n",
       "    </tr>\n",
       "    <tr>\n",
       "      <th>2203</th>\n",
       "      <td>2020-09-28</td>\n",
       "      <td>10912.536133</td>\n",
       "      <td>2.122653e+10</td>\n",
       "    </tr>\n",
       "  </tbody>\n",
       "</table>\n",
       "<p>2203 rows × 3 columns</p>\n",
       "</div>"
      ],
      "text/plain": [
       "            DATE         CLOSE        VOLUME\n",
       "0     2014-09-17    457.334015  2.105680e+07\n",
       "1     2014-09-18    424.440002  3.448320e+07\n",
       "2     2014-09-19    394.795990  3.791970e+07\n",
       "3     2014-09-20    408.903992  3.686360e+07\n",
       "4     2014-09-21    398.821014  2.658010e+07\n",
       "...          ...           ...           ...\n",
       "2199  2020-09-24  10745.548828  2.301754e+10\n",
       "2200  2020-09-25  10702.290039  2.123255e+10\n",
       "2201  2020-09-26  10754.437500  1.810501e+10\n",
       "2202  2020-09-27  10774.426758  1.801688e+10\n",
       "2203  2020-09-28  10912.536133  2.122653e+10\n",
       "\n",
       "[2203 rows x 3 columns]"
      ]
     },
     "execution_count": 38,
     "metadata": {},
     "output_type": "execute_result"
    }
   ],
   "source": [
    "# Checking if there are null values in datasets\n",
    "print(\"bitcoin\",df_bitcoin.isna().values.any())\n",
    "print(\"tesla\",df_tesla.isna().values.any())\n",
    "print(\"unempl1\",df_unemployment1.isna().values.any())\n",
    "print(\"unempl2\",df_unemployment2.isna().values.any())\n",
    "\n",
    "# looking for missing values\n",
    "df_bitcoin.isna().values.sum()\n",
    "df_bitcoin.CLOSE.isna()\n",
    "\n",
    "# removing missing values (dropping those rows)\n",
    "df_bitcoin.dropna()"
   ]
  },
  {
   "cell_type": "code",
   "execution_count": null,
   "metadata": {},
   "outputs": [],
   "source": []
  }
 ],
 "metadata": {
  "kernelspec": {
   "display_name": "Python 3",
   "language": "python",
   "name": "python3"
  },
  "language_info": {
   "codemirror_mode": {
    "name": "ipython",
    "version": 3
   },
   "file_extension": ".py",
   "mimetype": "text/x-python",
   "name": "python",
   "nbconvert_exporter": "python",
   "pygments_lexer": "ipython3",
   "version": "3.10.10"
  },
  "orig_nbformat": 4,
  "vscode": {
   "interpreter": {
    "hash": "43b9741a42e99867bf24ecdf120380ccf5f203f87aa8fbbc9dd35dd52a7cacc0"
   }
  }
 },
 "nbformat": 4,
 "nbformat_minor": 2
}
